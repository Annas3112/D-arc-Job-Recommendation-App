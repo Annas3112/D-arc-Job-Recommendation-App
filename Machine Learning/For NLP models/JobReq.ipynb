{
  "cells": [
    {
      "cell_type": "code",
      "execution_count": null,
      "id": "814bb2fa",
      "metadata": {
        "id": "814bb2fa",
        "colab": {
          "base_uri": "https://localhost:8080/"
        },
        "outputId": "ad735339-13fa-458d-a475-319e4b670b6b"
      },
      "outputs": [
        {
          "output_type": "stream",
          "name": "stdout",
          "text": [
            "Drive already mounted at /content/drive; to attempt to forcibly remount, call drive.mount(\"/content/drive\", force_remount=True).\n"
          ]
        }
      ],
      "source": [
        "import pandas as pd\n",
        "import numpy as np\n",
        "from sklearn.model_selection import train_test_split\n",
        "from sklearn.preprocessing import LabelEncoder, MinMaxScaler\n",
        "from tensorflow.keras.models import Sequential\n",
        "from tensorflow.keras.layers import Embedding, Flatten, Dense\n",
        "from tensorflow.keras.optimizers import Adam\n",
        "from tensorflow.keras.preprocessing.text import Tokenizer\n",
        "from tensorflow.keras.preprocessing.sequence import pad_sequences\n",
        "from tensorflow.keras.utils import to_categorical\n",
        "import joblib\n",
        "from tensorflow.keras.models import load_model\n",
        "import json\n",
        "from keras.layers import Dropout\n",
        "import tensorflow as tf\n",
        "from google.colab import drive\n",
        "drive.mount('/content/drive')"
      ]
    },
    {
      "cell_type": "code",
      "execution_count": null,
      "id": "072f59c4",
      "metadata": {
        "id": "072f59c4"
      },
      "outputs": [],
      "source": [
        "# @title Default title text\n",
        "# Load the dataset\n",
        "dir = '/content/drive/MyDrive/capstone/'\n",
        "df = pd.read_excel(dir+'DuplicateCleansing.xlsx')\n",
        "# Preprocess text data\n",
        "tokenizer = Tokenizer()\n",
        "tokenizer.fit_on_texts(df['Skillset'].fillna(''))\n",
        "\n",
        "# Convert text to sequences\n",
        "sequences = tokenizer.texts_to_sequences(df['Skillset'].fillna(''))\n",
        "sequence_lengths = [len(seq) for seq in sequences]\n",
        "\n",
        "# Combine features\n",
        "#maxlen = max(len(seq) for seq in sequences)\n",
        "# X_text = pad_sequences(sequences, padding='post', maxlen=2000)\n",
        "\n",
        "label_encoder_education = LabelEncoder()\n",
        "df['Pendidikan'] = label_encoder_education.fit_transform(df['Pendidikan'])\n",
        "\n",
        "scaler_experience = MinMaxScaler()\n",
        "df['Pengalaman Kerja'] = scaler_experience.fit_transform(df[['Pengalaman Kerja']])\n",
        "\n",
        "X = X_other = df[['Pengalaman Kerja', 'Pendidikan']]\n",
        "# X = pd.concat([X_other, pd.DataFrame(X_text)], axis=1)\n",
        "\n",
        "label_encoder_job_title = LabelEncoder()\n",
        "y_encoded = label_encoder_job_title.fit_transform(df['Job Title'])\n",
        "\n",
        "y_one_hot = to_categorical(y_encoded)"
      ]
    },
    {
      "cell_type": "code",
      "source": [
        "X.shape, y_one_hot.shape"
      ],
      "metadata": {
        "id": "kDw7MXiqfbXf",
        "colab": {
          "base_uri": "https://localhost:8080/"
        },
        "outputId": "278fcbc6-6777-49fa-aa00-ca58b11bc7e6"
      },
      "id": "kDw7MXiqfbXf",
      "execution_count": null,
      "outputs": [
        {
          "output_type": "execute_result",
          "data": {
            "text/plain": [
              "((99, 2), (99, 95))"
            ]
          },
          "metadata": {},
          "execution_count": 35
        }
      ]
    },
    {
      "cell_type": "code",
      "source": [
        "X.values"
      ],
      "metadata": {
        "id": "mUlqqtwTnWnd",
        "colab": {
          "base_uri": "https://localhost:8080/"
        },
        "outputId": "cde1bd3c-3cf4-442a-84d0-5e5d66d440b2"
      },
      "id": "mUlqqtwTnWnd",
      "execution_count": null,
      "outputs": [
        {
          "output_type": "execute_result",
          "data": {
            "text/plain": [
              "array([[0.3, 1. ],\n",
              "       [0.2, 1. ],\n",
              "       [0. , 1. ],\n",
              "       [0.6, 1. ],\n",
              "       [0.2, 1. ],\n",
              "       [0.1, 4. ],\n",
              "       [0.1, 4. ],\n",
              "       [0. , 2. ],\n",
              "       [0.2, 1. ],\n",
              "       [0. , 1. ],\n",
              "       [0.2, 0. ],\n",
              "       [0.3, 2. ],\n",
              "       [0. , 2. ],\n",
              "       [0.5, 2. ],\n",
              "       [0.3, 1. ],\n",
              "       [0.2, 2. ],\n",
              "       [0.4, 1. ],\n",
              "       [0.3, 2. ],\n",
              "       [0.1, 2. ],\n",
              "       [0.2, 1. ],\n",
              "       [0.2, 2. ],\n",
              "       [0.2, 2. ],\n",
              "       [0. , 2. ],\n",
              "       [0. , 1. ],\n",
              "       [0.1, 2. ],\n",
              "       [0.1, 1. ],\n",
              "       [0.2, 2. ],\n",
              "       [0. , 2. ],\n",
              "       [0.3, 2. ],\n",
              "       [0.2, 2. ],\n",
              "       [0.5, 2. ],\n",
              "       [0.1, 1. ],\n",
              "       [0. , 1. ],\n",
              "       [0.1, 1. ],\n",
              "       [0.3, 2. ],\n",
              "       [0.1, 2. ],\n",
              "       [0.1, 5. ],\n",
              "       [0.2, 1. ],\n",
              "       [0. , 2. ],\n",
              "       [0.1, 1. ],\n",
              "       [0.2, 2. ],\n",
              "       [0.3, 1. ],\n",
              "       [0.2, 2. ],\n",
              "       [0.3, 2. ],\n",
              "       [0.1, 2. ],\n",
              "       [0. , 1. ],\n",
              "       [0.2, 2. ],\n",
              "       [0.5, 2. ],\n",
              "       [0.1, 2. ],\n",
              "       [0.1, 2. ],\n",
              "       [0.5, 2. ],\n",
              "       [0.1, 2. ],\n",
              "       [0. , 2. ],\n",
              "       [0. , 2. ],\n",
              "       [0.2, 2. ],\n",
              "       [0.3, 1. ],\n",
              "       [0. , 1. ],\n",
              "       [0.1, 2. ],\n",
              "       [0. , 2. ],\n",
              "       [0.1, 2. ],\n",
              "       [0.5, 2. ],\n",
              "       [0.1, 1. ],\n",
              "       [0.2, 2. ],\n",
              "       [0.2, 1. ],\n",
              "       [0. , 1. ],\n",
              "       [0.3, 3. ],\n",
              "       [0. , 1. ],\n",
              "       [0.1, 1. ],\n",
              "       [0.3, 1. ],\n",
              "       [0.1, 1. ],\n",
              "       [0. , 2. ],\n",
              "       [0.1, 1. ],\n",
              "       [0.2, 1. ],\n",
              "       [0.7, 2. ],\n",
              "       [0.3, 2. ],\n",
              "       [0. , 2. ],\n",
              "       [0.1, 1. ],\n",
              "       [0.5, 2. ],\n",
              "       [0.3, 1. ],\n",
              "       [0.3, 1. ],\n",
              "       [0.1, 4. ],\n",
              "       [0.4, 1. ],\n",
              "       [0.3, 1. ],\n",
              "       [0.8, 5. ],\n",
              "       [0.1, 5. ],\n",
              "       [0. , 5. ],\n",
              "       [0.3, 5. ],\n",
              "       [0.2, 5. ],\n",
              "       [0.3, 1. ],\n",
              "       [0. , 1. ],\n",
              "       [0.5, 2. ],\n",
              "       [0.2, 5. ],\n",
              "       [0.2, 2. ],\n",
              "       [1. , 2. ],\n",
              "       [0.1, 2. ],\n",
              "       [0. , 1. ],\n",
              "       [0.2, 0. ],\n",
              "       [0.5, 1. ],\n",
              "       [0. , 1. ]])"
            ]
          },
          "metadata": {},
          "execution_count": 36
        }
      ]
    },
    {
      "cell_type": "code",
      "execution_count": null,
      "id": "4ef7cb24",
      "metadata": {
        "id": "4ef7cb24",
        "colab": {
          "base_uri": "https://localhost:8080/"
        },
        "outputId": "85310c2f-e4a1-4f4e-bae7-c142bbf726e7"
      },
      "outputs": [
        {
          "output_type": "stream",
          "name": "stdout",
          "text": [
            "Epoch 1/100\n",
            "3/3 [==============================] - 1s 120ms/step - loss: 4.5532 - accuracy: 0.0000e+00 - val_loss: 4.5555 - val_accuracy: 0.0000e+00\n",
            "Epoch 2/100\n",
            "3/3 [==============================] - 0s 19ms/step - loss: 4.5526 - accuracy: 0.0127 - val_loss: 4.5615 - val_accuracy: 0.0000e+00\n",
            "Epoch 3/100\n",
            "3/3 [==============================] - 0s 18ms/step - loss: 4.5462 - accuracy: 0.0380 - val_loss: 4.5679 - val_accuracy: 0.0000e+00\n",
            "Epoch 4/100\n",
            "3/3 [==============================] - 0s 19ms/step - loss: 4.5439 - accuracy: 0.0253 - val_loss: 4.5751 - val_accuracy: 0.0000e+00\n",
            "Epoch 5/100\n",
            "3/3 [==============================] - 0s 17ms/step - loss: 4.5384 - accuracy: 0.0506 - val_loss: 4.5831 - val_accuracy: 0.0000e+00\n",
            "Epoch 6/100\n",
            "3/3 [==============================] - 0s 27ms/step - loss: 4.5371 - accuracy: 0.0253 - val_loss: 4.5925 - val_accuracy: 0.0000e+00\n",
            "Epoch 7/100\n",
            "3/3 [==============================] - 0s 19ms/step - loss: 4.5325 - accuracy: 0.0506 - val_loss: 4.6028 - val_accuracy: 0.0000e+00\n",
            "Epoch 8/100\n",
            "3/3 [==============================] - 0s 19ms/step - loss: 4.5232 - accuracy: 0.0253 - val_loss: 4.6141 - val_accuracy: 0.0000e+00\n",
            "Epoch 9/100\n",
            "3/3 [==============================] - 0s 18ms/step - loss: 4.5158 - accuracy: 0.0380 - val_loss: 4.6280 - val_accuracy: 0.0000e+00\n",
            "Epoch 10/100\n",
            "3/3 [==============================] - 0s 18ms/step - loss: 4.5066 - accuracy: 0.0380 - val_loss: 4.6442 - val_accuracy: 0.0000e+00\n",
            "Epoch 11/100\n",
            "3/3 [==============================] - 0s 18ms/step - loss: 4.5004 - accuracy: 0.0127 - val_loss: 4.6647 - val_accuracy: 0.0000e+00\n",
            "Epoch 12/100\n",
            "3/3 [==============================] - 0s 27ms/step - loss: 4.4845 - accuracy: 0.0253 - val_loss: 4.6899 - val_accuracy: 0.0000e+00\n",
            "Epoch 13/100\n",
            "3/3 [==============================] - 0s 18ms/step - loss: 4.4716 - accuracy: 0.0380 - val_loss: 4.7199 - val_accuracy: 0.0000e+00\n",
            "Epoch 14/100\n",
            "3/3 [==============================] - 0s 24ms/step - loss: 4.4549 - accuracy: 0.0380 - val_loss: 4.7575 - val_accuracy: 0.0000e+00\n",
            "Epoch 15/100\n",
            "3/3 [==============================] - 0s 19ms/step - loss: 4.4316 - accuracy: 0.0127 - val_loss: 4.8052 - val_accuracy: 0.0000e+00\n",
            "Epoch 16/100\n",
            "3/3 [==============================] - 0s 18ms/step - loss: 4.4134 - accuracy: 0.0253 - val_loss: 4.8653 - val_accuracy: 0.0000e+00\n",
            "Epoch 17/100\n",
            "3/3 [==============================] - 0s 28ms/step - loss: 4.3861 - accuracy: 0.0506 - val_loss: 4.9388 - val_accuracy: 0.0000e+00\n",
            "Epoch 18/100\n",
            "3/3 [==============================] - 0s 18ms/step - loss: 4.3498 - accuracy: 0.0380 - val_loss: 5.0297 - val_accuracy: 0.0000e+00\n",
            "Epoch 19/100\n",
            "3/3 [==============================] - 0s 17ms/step - loss: 4.2991 - accuracy: 0.0506 - val_loss: 5.1435 - val_accuracy: 0.0000e+00\n",
            "Epoch 20/100\n",
            "3/3 [==============================] - 0s 18ms/step - loss: 4.2529 - accuracy: 0.0633 - val_loss: 5.2884 - val_accuracy: 0.0000e+00\n",
            "Epoch 21/100\n",
            "3/3 [==============================] - 0s 28ms/step - loss: 4.1944 - accuracy: 0.0506 - val_loss: 5.4624 - val_accuracy: 0.0000e+00\n",
            "Epoch 22/100\n",
            "3/3 [==============================] - 0s 19ms/step - loss: 4.1463 - accuracy: 0.0506 - val_loss: 5.6652 - val_accuracy: 0.0000e+00\n",
            "Epoch 23/100\n",
            "3/3 [==============================] - 0s 18ms/step - loss: 4.0730 - accuracy: 0.0633 - val_loss: 5.8979 - val_accuracy: 0.0000e+00\n",
            "Epoch 24/100\n",
            "3/3 [==============================] - 0s 27ms/step - loss: 4.0137 - accuracy: 0.0506 - val_loss: 6.1653 - val_accuracy: 0.0000e+00\n",
            "Epoch 25/100\n",
            "3/3 [==============================] - 0s 19ms/step - loss: 3.9762 - accuracy: 0.0506 - val_loss: 6.4386 - val_accuracy: 0.0000e+00\n",
            "Epoch 26/100\n",
            "3/3 [==============================] - 0s 19ms/step - loss: 3.9223 - accuracy: 0.0633 - val_loss: 6.7397 - val_accuracy: 0.0000e+00\n",
            "Epoch 27/100\n",
            "3/3 [==============================] - 0s 27ms/step - loss: 3.8757 - accuracy: 0.0633 - val_loss: 7.0256 - val_accuracy: 0.0000e+00\n",
            "Epoch 28/100\n",
            "3/3 [==============================] - 0s 27ms/step - loss: 3.8386 - accuracy: 0.0633 - val_loss: 7.2977 - val_accuracy: 0.0000e+00\n",
            "Epoch 29/100\n",
            "3/3 [==============================] - 0s 19ms/step - loss: 3.7872 - accuracy: 0.0759 - val_loss: 7.5441 - val_accuracy: 0.0000e+00\n",
            "Epoch 30/100\n",
            "3/3 [==============================] - 0s 27ms/step - loss: 3.7429 - accuracy: 0.0759 - val_loss: 7.7655 - val_accuracy: 0.0000e+00\n",
            "Epoch 31/100\n",
            "3/3 [==============================] - 0s 18ms/step - loss: 3.6947 - accuracy: 0.0759 - val_loss: 7.9862 - val_accuracy: 0.0000e+00\n",
            "Epoch 32/100\n",
            "3/3 [==============================] - 0s 24ms/step - loss: 3.6663 - accuracy: 0.0633 - val_loss: 8.2134 - val_accuracy: 0.0000e+00\n",
            "Epoch 33/100\n",
            "3/3 [==============================] - 0s 18ms/step - loss: 3.6797 - accuracy: 0.0506 - val_loss: 8.4320 - val_accuracy: 0.0000e+00\n",
            "Epoch 34/100\n",
            "3/3 [==============================] - 0s 18ms/step - loss: 3.6267 - accuracy: 0.0759 - val_loss: 8.6300 - val_accuracy: 0.0000e+00\n",
            "Epoch 35/100\n",
            "3/3 [==============================] - 0s 18ms/step - loss: 3.5717 - accuracy: 0.0633 - val_loss: 8.8327 - val_accuracy: 0.0000e+00\n",
            "Epoch 36/100\n",
            "3/3 [==============================] - 0s 31ms/step - loss: 3.5527 - accuracy: 0.1013 - val_loss: 9.0391 - val_accuracy: 0.0000e+00\n",
            "Epoch 37/100\n",
            "3/3 [==============================] - 0s 28ms/step - loss: 3.5796 - accuracy: 0.0759 - val_loss: 9.2360 - val_accuracy: 0.0000e+00\n",
            "Epoch 38/100\n",
            "3/3 [==============================] - 0s 20ms/step - loss: 3.5221 - accuracy: 0.0886 - val_loss: 9.4393 - val_accuracy: 0.0000e+00\n",
            "Epoch 39/100\n",
            "3/3 [==============================] - 0s 27ms/step - loss: 3.4988 - accuracy: 0.0886 - val_loss: 9.6285 - val_accuracy: 0.0000e+00\n",
            "Epoch 40/100\n",
            "3/3 [==============================] - 0s 27ms/step - loss: 3.4495 - accuracy: 0.0886 - val_loss: 9.7949 - val_accuracy: 0.0000e+00\n",
            "Epoch 41/100\n",
            "3/3 [==============================] - 0s 19ms/step - loss: 3.4939 - accuracy: 0.0886 - val_loss: 9.9871 - val_accuracy: 0.0000e+00\n",
            "Epoch 42/100\n",
            "3/3 [==============================] - 0s 22ms/step - loss: 3.4393 - accuracy: 0.0886 - val_loss: 10.1793 - val_accuracy: 0.0000e+00\n",
            "Epoch 43/100\n",
            "3/3 [==============================] - 0s 21ms/step - loss: 3.4532 - accuracy: 0.0633 - val_loss: 10.3592 - val_accuracy: 0.0000e+00\n",
            "Epoch 44/100\n",
            "3/3 [==============================] - 0s 27ms/step - loss: 3.3809 - accuracy: 0.1013 - val_loss: 10.5424 - val_accuracy: 0.0000e+00\n",
            "Epoch 45/100\n",
            "3/3 [==============================] - 0s 18ms/step - loss: 3.3843 - accuracy: 0.0886 - val_loss: 10.7290 - val_accuracy: 0.0000e+00\n",
            "Epoch 46/100\n",
            "3/3 [==============================] - 0s 19ms/step - loss: 3.4154 - accuracy: 0.1013 - val_loss: 10.9158 - val_accuracy: 0.0000e+00\n",
            "Epoch 47/100\n",
            "3/3 [==============================] - 0s 20ms/step - loss: 3.3736 - accuracy: 0.1139 - val_loss: 11.0835 - val_accuracy: 0.0000e+00\n",
            "Epoch 48/100\n",
            "3/3 [==============================] - 0s 27ms/step - loss: 3.3463 - accuracy: 0.1139 - val_loss: 11.2257 - val_accuracy: 0.0000e+00\n",
            "Epoch 49/100\n",
            "3/3 [==============================] - 0s 27ms/step - loss: 3.2990 - accuracy: 0.1139 - val_loss: 11.3845 - val_accuracy: 0.0000e+00\n",
            "Epoch 50/100\n",
            "3/3 [==============================] - 0s 25ms/step - loss: 3.3082 - accuracy: 0.1266 - val_loss: 11.5494 - val_accuracy: 0.0000e+00\n",
            "Epoch 51/100\n",
            "3/3 [==============================] - 0s 17ms/step - loss: 3.4149 - accuracy: 0.0633 - val_loss: 11.6723 - val_accuracy: 0.0000e+00\n",
            "Epoch 52/100\n",
            "3/3 [==============================] - 0s 19ms/step - loss: 3.3013 - accuracy: 0.0886 - val_loss: 11.7644 - val_accuracy: 0.0000e+00\n",
            "Epoch 53/100\n",
            "3/3 [==============================] - 0s 19ms/step - loss: 3.3096 - accuracy: 0.1266 - val_loss: 11.8654 - val_accuracy: 0.0000e+00\n",
            "Epoch 54/100\n",
            "3/3 [==============================] - 0s 18ms/step - loss: 3.2331 - accuracy: 0.1139 - val_loss: 11.9846 - val_accuracy: 0.0000e+00\n",
            "Epoch 55/100\n",
            "3/3 [==============================] - 0s 18ms/step - loss: 3.2476 - accuracy: 0.1392 - val_loss: 12.1092 - val_accuracy: 0.0000e+00\n",
            "Epoch 56/100\n",
            "3/3 [==============================] - 0s 19ms/step - loss: 3.3568 - accuracy: 0.0886 - val_loss: 12.1958 - val_accuracy: 0.0000e+00\n",
            "Epoch 57/100\n",
            "3/3 [==============================] - 0s 18ms/step - loss: 3.2836 - accuracy: 0.1139 - val_loss: 12.2760 - val_accuracy: 0.0000e+00\n",
            "Epoch 58/100\n",
            "3/3 [==============================] - 0s 19ms/step - loss: 3.2667 - accuracy: 0.0886 - val_loss: 12.3476 - val_accuracy: 0.0000e+00\n",
            "Epoch 59/100\n",
            "3/3 [==============================] - 0s 18ms/step - loss: 3.2094 - accuracy: 0.1392 - val_loss: 12.4320 - val_accuracy: 0.0000e+00\n",
            "Epoch 60/100\n",
            "3/3 [==============================] - 0s 19ms/step - loss: 3.2562 - accuracy: 0.1139 - val_loss: 12.5210 - val_accuracy: 0.0000e+00\n",
            "Epoch 61/100\n",
            "3/3 [==============================] - 0s 27ms/step - loss: 3.2945 - accuracy: 0.0886 - val_loss: 12.5978 - val_accuracy: 0.0000e+00\n",
            "Epoch 62/100\n",
            "3/3 [==============================] - 0s 20ms/step - loss: 3.2893 - accuracy: 0.1013 - val_loss: 12.6554 - val_accuracy: 0.0000e+00\n",
            "Epoch 63/100\n",
            "3/3 [==============================] - 0s 18ms/step - loss: 3.2882 - accuracy: 0.1139 - val_loss: 12.6944 - val_accuracy: 0.0000e+00\n",
            "Epoch 64/100\n",
            "3/3 [==============================] - 0s 19ms/step - loss: 3.2784 - accuracy: 0.1013 - val_loss: 12.7013 - val_accuracy: 0.0000e+00\n",
            "Epoch 65/100\n",
            "3/3 [==============================] - 0s 19ms/step - loss: 3.2708 - accuracy: 0.1139 - val_loss: 12.7126 - val_accuracy: 0.0000e+00\n",
            "Epoch 66/100\n",
            "3/3 [==============================] - 0s 28ms/step - loss: 3.2034 - accuracy: 0.1013 - val_loss: 12.7389 - val_accuracy: 0.0000e+00\n",
            "Epoch 67/100\n",
            "3/3 [==============================] - 0s 18ms/step - loss: 3.2088 - accuracy: 0.1392 - val_loss: 12.7906 - val_accuracy: 0.0000e+00\n",
            "Epoch 68/100\n",
            "3/3 [==============================] - 0s 19ms/step - loss: 3.2799 - accuracy: 0.0759 - val_loss: 12.8305 - val_accuracy: 0.0000e+00\n",
            "Epoch 69/100\n",
            "3/3 [==============================] - 0s 18ms/step - loss: 3.2370 - accuracy: 0.0886 - val_loss: 12.8771 - val_accuracy: 0.0000e+00\n",
            "Epoch 70/100\n",
            "3/3 [==============================] - 0s 36ms/step - loss: 3.2024 - accuracy: 0.1266 - val_loss: 12.9434 - val_accuracy: 0.0000e+00\n",
            "Epoch 71/100\n",
            "3/3 [==============================] - 0s 18ms/step - loss: 3.2262 - accuracy: 0.1139 - val_loss: 12.9945 - val_accuracy: 0.0000e+00\n",
            "Epoch 72/100\n",
            "3/3 [==============================] - 0s 18ms/step - loss: 3.2444 - accuracy: 0.1392 - val_loss: 13.0093 - val_accuracy: 0.0000e+00\n",
            "Epoch 73/100\n",
            "3/3 [==============================] - 0s 20ms/step - loss: 3.2638 - accuracy: 0.0886 - val_loss: 12.9954 - val_accuracy: 0.0000e+00\n",
            "Epoch 74/100\n",
            "3/3 [==============================] - 0s 19ms/step - loss: 3.1875 - accuracy: 0.0633 - val_loss: 12.9875 - val_accuracy: 0.0000e+00\n",
            "Epoch 75/100\n",
            "3/3 [==============================] - 0s 28ms/step - loss: 3.1798 - accuracy: 0.0886 - val_loss: 12.9940 - val_accuracy: 0.0000e+00\n",
            "Epoch 76/100\n",
            "3/3 [==============================] - 0s 20ms/step - loss: 3.2387 - accuracy: 0.1139 - val_loss: 13.0027 - val_accuracy: 0.0000e+00\n",
            "Epoch 77/100\n",
            "3/3 [==============================] - 0s 19ms/step - loss: 3.2030 - accuracy: 0.1139 - val_loss: 13.0051 - val_accuracy: 0.0000e+00\n",
            "Epoch 78/100\n",
            "3/3 [==============================] - 0s 28ms/step - loss: 3.2201 - accuracy: 0.0759 - val_loss: 13.0180 - val_accuracy: 0.0000e+00\n",
            "Epoch 79/100\n",
            "3/3 [==============================] - 0s 20ms/step - loss: 3.2258 - accuracy: 0.0886 - val_loss: 13.0401 - val_accuracy: 0.0000e+00\n",
            "Epoch 80/100\n",
            "3/3 [==============================] - 0s 23ms/step - loss: 3.2367 - accuracy: 0.0759 - val_loss: 13.0393 - val_accuracy: 0.0000e+00\n",
            "Epoch 81/100\n",
            "3/3 [==============================] - 0s 20ms/step - loss: 3.2537 - accuracy: 0.0886 - val_loss: 13.0254 - val_accuracy: 0.0000e+00\n",
            "Epoch 82/100\n",
            "3/3 [==============================] - 0s 18ms/step - loss: 3.1577 - accuracy: 0.1013 - val_loss: 13.0442 - val_accuracy: 0.0000e+00\n",
            "Epoch 83/100\n",
            "3/3 [==============================] - 0s 19ms/step - loss: 3.1858 - accuracy: 0.1013 - val_loss: 13.0765 - val_accuracy: 0.0000e+00\n",
            "Epoch 84/100\n",
            "3/3 [==============================] - 0s 19ms/step - loss: 3.1466 - accuracy: 0.1139 - val_loss: 13.1153 - val_accuracy: 0.0000e+00\n",
            "Epoch 85/100\n",
            "3/3 [==============================] - 0s 20ms/step - loss: 3.2034 - accuracy: 0.1013 - val_loss: 13.1415 - val_accuracy: 0.0000e+00\n",
            "Epoch 86/100\n",
            "3/3 [==============================] - 0s 19ms/step - loss: 3.1685 - accuracy: 0.1139 - val_loss: 13.1718 - val_accuracy: 0.0000e+00\n",
            "Epoch 87/100\n",
            "3/3 [==============================] - 0s 28ms/step - loss: 3.1577 - accuracy: 0.1013 - val_loss: 13.2102 - val_accuracy: 0.0000e+00\n",
            "Epoch 88/100\n",
            "3/3 [==============================] - 0s 35ms/step - loss: 3.1717 - accuracy: 0.1013 - val_loss: 13.2392 - val_accuracy: 0.0000e+00\n",
            "Epoch 89/100\n",
            "3/3 [==============================] - 0s 19ms/step - loss: 3.2104 - accuracy: 0.1013 - val_loss: 13.2651 - val_accuracy: 0.0000e+00\n",
            "Epoch 90/100\n",
            "3/3 [==============================] - 0s 18ms/step - loss: 3.2685 - accuracy: 0.1013 - val_loss: 13.2875 - val_accuracy: 0.0000e+00\n",
            "Epoch 91/100\n",
            "3/3 [==============================] - 0s 18ms/step - loss: 3.1806 - accuracy: 0.1013 - val_loss: 13.2993 - val_accuracy: 0.0000e+00\n",
            "Epoch 92/100\n",
            "3/3 [==============================] - 0s 28ms/step - loss: 3.1639 - accuracy: 0.0886 - val_loss: 13.3019 - val_accuracy: 0.0000e+00\n",
            "Epoch 93/100\n",
            "3/3 [==============================] - 0s 18ms/step - loss: 3.2149 - accuracy: 0.1266 - val_loss: 13.2789 - val_accuracy: 0.0000e+00\n",
            "Epoch 94/100\n",
            "3/3 [==============================] - 0s 34ms/step - loss: 3.1781 - accuracy: 0.1392 - val_loss: 13.2516 - val_accuracy: 0.0000e+00\n",
            "Epoch 95/100\n",
            "3/3 [==============================] - 0s 37ms/step - loss: 3.1630 - accuracy: 0.1392 - val_loss: 13.2399 - val_accuracy: 0.0000e+00\n",
            "Epoch 96/100\n",
            "3/3 [==============================] - 0s 39ms/step - loss: 3.2421 - accuracy: 0.0759 - val_loss: 13.2224 - val_accuracy: 0.0000e+00\n",
            "Epoch 97/100\n",
            "3/3 [==============================] - 0s 25ms/step - loss: 3.1278 - accuracy: 0.1646 - val_loss: 13.2174 - val_accuracy: 0.0000e+00\n",
            "Epoch 98/100\n",
            "3/3 [==============================] - 0s 32ms/step - loss: 3.1617 - accuracy: 0.1266 - val_loss: 13.2081 - val_accuracy: 0.0000e+00\n",
            "Epoch 99/100\n",
            "3/3 [==============================] - 0s 35ms/step - loss: 3.1798 - accuracy: 0.1013 - val_loss: 13.1873 - val_accuracy: 0.0000e+00\n",
            "Epoch 100/100\n",
            "3/3 [==============================] - 0s 25ms/step - loss: 3.2291 - accuracy: 0.1013 - val_loss: 13.1422 - val_accuracy: 0.0000e+00\n"
          ]
        },
        {
          "output_type": "execute_result",
          "data": {
            "text/plain": [
              "<keras.src.callbacks.History at 0x7fca52b8ca00>"
            ]
          },
          "metadata": {},
          "execution_count": 37
        }
      ],
      "source": [
        "# Train-test split\n",
        "X_train, X_test, y_train, y_test = train_test_split(X, y_one_hot, test_size=0.2, random_state=42)\n",
        "\n",
        "# Neural network model with Word Embedding\n",
        "model = Sequential()\n",
        "model.add(Embedding(input_dim=len(tokenizer.word_index) + 1, output_dim=50, input_length=2))\n",
        "model.add(Flatten())\n",
        "model.add(Dense(128, activation='relu'))\n",
        "model.add(Dropout(0.5))\n",
        "model.add(Dense(64, activation='relu'))\n",
        "model.add(Dense(len(label_encoder_job_title.classes_), activation='softmax'))\n",
        "\n",
        "# Compile the model\n",
        "model.compile(optimizer=Adam(), loss='categorical_crossentropy', metrics=['accuracy'])\n",
        "\n",
        "# Train the model\n",
        "model.fit(X_train, y_train, epochs=100, batch_size=32, validation_data=(X_test, y_test))\n"
      ]
    },
    {
      "cell_type": "code",
      "execution_count": null,
      "id": "b58c83e0",
      "metadata": {
        "scrolled": true,
        "id": "b58c83e0",
        "colab": {
          "base_uri": "https://localhost:8080/"
        },
        "outputId": "d1e38b58-2040-4da8-f897-97a952a5db77"
      },
      "outputs": [
        {
          "output_type": "stream",
          "name": "stderr",
          "text": [
            "/usr/local/lib/python3.10/dist-packages/keras/src/engine/training.py:3103: UserWarning: You are saving your model as an HDF5 file via `model.save()`. This file format is considered legacy. We recommend using instead the native Keras format, e.g. `model.save('my_model.keras')`.\n",
            "  saving_api.save_model(\n"
          ]
        },
        {
          "output_type": "execute_result",
          "data": {
            "text/plain": [
              "['/content/drive/MyDrive/capstone/scaler_experience.pkl']"
            ]
          },
          "metadata": {},
          "execution_count": 38
        }
      ],
      "source": [
        "# Save the trained model and preprocessing components\n",
        "model.save(\"/content/drive/MyDrive/capstone/nlp_model.h5\")\n",
        "\n",
        "# Save Tokenizer to JSON file\n",
        "with open(\"/content/drive/MyDrive/capstone/nlp_tokenizer.json\", \"w\", encoding=\"utf-8\") as f:\n",
        "    f.write(tokenizer.to_json())\n",
        "\n",
        "# Save Label Encoder for Job Title\n",
        "label_encoder_job_title_JobReq = \"/content/drive/MyDrive/capstone/nlp_label_encoder_job_title.pkl\"\n",
        "joblib.dump(label_encoder_job_title, label_encoder_job_title_JobReq)\n",
        "\n",
        "# Save Label Encoder for Education\n",
        "label_encoder_education_JobReq = \"/content/drive/MyDrive/capstone/nlp_label_encoder_education.pkl\"\n",
        "joblib.dump(label_encoder_education, label_encoder_education_JobReq)\n",
        "\n",
        "# Save MinMaxScaler for Experience\n",
        "scaler_experience_filename = \"/content/drive/MyDrive/capstone/scaler_experience.pkl\"\n",
        "joblib.dump(scaler_experience, scaler_experience_filename)\n"
      ]
    },
    {
      "cell_type": "code",
      "source": [
        "model.summary()"
      ],
      "metadata": {
        "id": "i1xd5BjzemdM",
        "colab": {
          "base_uri": "https://localhost:8080/"
        },
        "outputId": "4755be7e-e7c1-4198-9d82-4dec02444ed9"
      },
      "id": "i1xd5BjzemdM",
      "execution_count": null,
      "outputs": [
        {
          "output_type": "stream",
          "name": "stdout",
          "text": [
            "Model: \"sequential_2\"\n",
            "_________________________________________________________________\n",
            " Layer (type)                Output Shape              Param #   \n",
            "=================================================================\n",
            " embedding_2 (Embedding)     (None, 2, 50)             78100     \n",
            "                                                                 \n",
            " flatten_2 (Flatten)         (None, 100)               0         \n",
            "                                                                 \n",
            " dense_6 (Dense)             (None, 128)               12928     \n",
            "                                                                 \n",
            " dropout_2 (Dropout)         (None, 128)               0         \n",
            "                                                                 \n",
            " dense_7 (Dense)             (None, 64)                8256      \n",
            "                                                                 \n",
            " dense_8 (Dense)             (None, 95)                6175      \n",
            "                                                                 \n",
            "=================================================================\n",
            "Total params: 105459 (411.95 KB)\n",
            "Trainable params: 105459 (411.95 KB)\n",
            "Non-trainable params: 0 (0.00 Byte)\n",
            "_________________________________________________________________\n"
          ]
        }
      ]
    },
    {
      "cell_type": "code",
      "execution_count": null,
      "id": "0dfcf412",
      "metadata": {
        "id": "0dfcf412"
      },
      "outputs": [],
      "source": [
        "df_user_input = pd.read_excel('/content/drive/MyDrive/capstone/User app dataset.xlsx')\n",
        "model_loaded = load_model(\"/content/drive/MyDrive/capstone/nlp_model.h5\")\n",
        "tokenizer = Tokenizer()\n",
        "with open(\"/content/drive/MyDrive/capstone/nlp_tokenizer.json\", 'r') as f:\n",
        "    tokenizer_config = json.load(f)\n",
        "    tokenizer.word_index = tokenizer_config.get('word_index', {})\n",
        "\n",
        "label_encoder_job_title = joblib.load(\"/content/drive/MyDrive/capstone/nlp_label_encoder_job_title.pkl\")\n",
        "label_encoder_education = joblib.load(\"/content/drive/MyDrive/capstone/nlp_label_encoder_education.pkl\")\n",
        "scaler_experience = joblib.load(\"/content/drive/MyDrive/capstone/scaler_experience.pkl\")\n",
        "\n",
        "df_user_input['Pendidikan'] = label_encoder_education.transform(df_user_input['Pendidikan'])\n",
        "df_user_input['Pengalaman Kerja'] = scaler_experience.transform(df_user_input[['Pengalaman Kerja']]).reshape(-1, 1)\n",
        "\n",
        "sequences_user_input = tokenizer.texts_to_sequences(df_user_input['Skillset'].fillna(''))\n",
        "maxlen_train = max(len(seq) for seq in sequences_user_input)\n",
        "X_text_user_input = pad_sequences(sequences_user_input, padding='post',maxlen=maxlen_train)\n",
        "\n",
        "X_other_user_input = df_user_input[['Pengalaman Kerja', 'Pendidikan']]\n",
        "X_user_input = pd.concat([X_other_user_input, pd.DataFrame(X_text_user_input)], axis=1)"
      ]
    },
    {
      "cell_type": "code",
      "source": [
        "X_user_input.shape"
      ],
      "metadata": {
        "id": "Lqyk4fS9kOYr",
        "colab": {
          "base_uri": "https://localhost:8080/"
        },
        "outputId": "f03e0c9e-9f37-4142-82fc-6c6f05f8f5ae"
      },
      "id": "Lqyk4fS9kOYr",
      "execution_count": null,
      "outputs": [
        {
          "output_type": "execute_result",
          "data": {
            "text/plain": [
              "(100, 2)"
            ]
          },
          "metadata": {},
          "execution_count": 41
        }
      ]
    },
    {
      "cell_type": "code",
      "source": [
        "X_user_input.values"
      ],
      "metadata": {
        "id": "nYGHs2Rfnt1y",
        "colab": {
          "base_uri": "https://localhost:8080/"
        },
        "outputId": "5ada3e35-83e0-4ffc-e6d1-232c33df436b"
      },
      "id": "nYGHs2Rfnt1y",
      "execution_count": null,
      "outputs": [
        {
          "output_type": "execute_result",
          "data": {
            "text/plain": [
              "array([[0.2, 2. ],\n",
              "       [0.3, 2. ],\n",
              "       [0.2, 2. ],\n",
              "       [0.3, 2. ],\n",
              "       [0.3, 1. ],\n",
              "       [0.3, 2. ],\n",
              "       [0.4, 2. ],\n",
              "       [0.6, 1. ],\n",
              "       [0.1, 2. ],\n",
              "       [0.1, 5. ],\n",
              "       [0.2, 1. ],\n",
              "       [0.3, 2. ],\n",
              "       [0.3, 2. ],\n",
              "       [0.3, 2. ],\n",
              "       [0.5, 2. ],\n",
              "       [0.5, 2. ],\n",
              "       [0.5, 2. ],\n",
              "       [0.2, 2. ],\n",
              "       [0.1, 2. ],\n",
              "       [0.2, 2. ],\n",
              "       [0.1, 1. ],\n",
              "       [0.2, 2. ],\n",
              "       [0.2, 2. ],\n",
              "       [0.2, 1. ],\n",
              "       [0.2, 2. ],\n",
              "       [0.2, 5. ],\n",
              "       [0.3, 5. ],\n",
              "       [0.3, 4. ],\n",
              "       [0.4, 1. ],\n",
              "       [0.3, 2. ],\n",
              "       [0.4, 1. ],\n",
              "       [0.6, 2. ],\n",
              "       [0.3, 2. ],\n",
              "       [0.2, 2. ],\n",
              "       [0.3, 2. ],\n",
              "       [0. , 2. ],\n",
              "       [0.2, 2. ],\n",
              "       [0.1, 2. ],\n",
              "       [0.1, 2. ],\n",
              "       [0.1, 2. ],\n",
              "       [0.1, 2. ],\n",
              "       [0.1, 2. ],\n",
              "       [0.1, 2. ],\n",
              "       [0.1, 2. ],\n",
              "       [0.1, 2. ],\n",
              "       [0.1, 2. ],\n",
              "       [0.1, 2. ],\n",
              "       [0.1, 2. ],\n",
              "       [0.1, 1. ],\n",
              "       [0.2, 1. ],\n",
              "       [0.1, 2. ],\n",
              "       [0.3, 5. ],\n",
              "       [0.1, 1. ],\n",
              "       [0.2, 2. ],\n",
              "       [0.2, 2. ],\n",
              "       [0.4, 2. ],\n",
              "       [0.3, 2. ],\n",
              "       [0.5, 2. ],\n",
              "       [0.2, 2. ],\n",
              "       [0.3, 2. ],\n",
              "       [0.2, 2. ],\n",
              "       [0.3, 2. ],\n",
              "       [0.3, 2. ],\n",
              "       [0.3, 2. ],\n",
              "       [0. , 4. ],\n",
              "       [0. , 4. ],\n",
              "       [0.1, 4. ],\n",
              "       [0. , 4. ],\n",
              "       [0.1, 4. ],\n",
              "       [0.2, 1. ],\n",
              "       [0.3, 2. ],\n",
              "       [0.2, 2. ],\n",
              "       [0.2, 1. ],\n",
              "       [0.2, 1. ],\n",
              "       [0.1, 1. ],\n",
              "       [0.2, 1. ],\n",
              "       [0.2, 1. ],\n",
              "       [0.3, 1. ],\n",
              "       [0.3, 1. ],\n",
              "       [0.2, 2. ],\n",
              "       [0. , 4. ],\n",
              "       [0.2, 2. ],\n",
              "       [0.3, 2. ],\n",
              "       [0.2, 2. ],\n",
              "       [0.1, 2. ],\n",
              "       [0.1, 1. ],\n",
              "       [0.1, 1. ],\n",
              "       [0.1, 1. ],\n",
              "       [0.1, 1. ],\n",
              "       [0.2, 1. ],\n",
              "       [0.1, 1. ],\n",
              "       [0.2, 1. ],\n",
              "       [0.2, 2. ],\n",
              "       [0.3, 2. ],\n",
              "       [0.3, 2. ],\n",
              "       [0.2, 2. ],\n",
              "       [0.1, 2. ],\n",
              "       [0.1, 2. ],\n",
              "       [0.2, 2. ],\n",
              "       [0.1, 2. ]])"
            ]
          },
          "metadata": {},
          "execution_count": 42
        }
      ]
    },
    {
      "cell_type": "code",
      "source": [
        "predictions = model_loaded.predict(X_user_input)"
      ],
      "metadata": {
        "id": "ZnjDdtajkFca",
        "colab": {
          "base_uri": "https://localhost:8080/"
        },
        "outputId": "784fd73b-b0a5-4cd4-aac9-389c3a486253"
      },
      "id": "ZnjDdtajkFca",
      "execution_count": null,
      "outputs": [
        {
          "output_type": "stream",
          "name": "stdout",
          "text": [
            "4/4 [==============================] - 0s 3ms/step\n"
          ]
        }
      ]
    },
    {
      "cell_type": "code",
      "source": [
        "# Decode predictions to job titles\n",
        "predicted_labels = label_encoder_job_title.inverse_transform(np.argmax(predictions, axis=1))\n",
        "\n",
        "# Add the predicted job titles to the user input DataFrame\n",
        "df_user_input['predicted_job_title'] = predicted_labels\n",
        "\n",
        "# Display the DataFrame with predicted job titles\n",
        "print(df_user_input[['Skillset', 'predicted_job_title']])"
      ],
      "metadata": {
        "id": "4f-USGovkKkH",
        "colab": {
          "base_uri": "https://localhost:8080/"
        },
        "outputId": "ba6a46b5-c7a1-4306-8e66-e3dbf7e52f46"
      },
      "id": "4f-USGovkKkH",
      "execution_count": null,
      "outputs": [
        {
          "output_type": "stream",
          "name": "stdout",
          "text": [
            "                                   Skillset predicted_job_title\n",
            "0   Microsoft Office , Node.js , Javascript          IT SUPPORT\n",
            "1                         Javascript , HTML          IT SUPPORT\n",
            "2                PHP, CSS, Microsoft Office          IT SUPPORT\n",
            "3               HTML, CSS, Microsoft Office          IT SUPPORT\n",
            "4                PHP, C+ , Microsoft Office          HRIS Staff\n",
            "..                                      ...                 ...\n",
            "95                      C, Javascript, HTML          IT SUPPORT\n",
            "96                      C, Javascript, HTML          IT SUPPORT\n",
            "97                      C, Javascript, HTML          IT SUPPORT\n",
            "98                         Javascript, Java          IT SUPPORT\n",
            "99               Python, Javascript, SQL, C          IT SUPPORT\n",
            "\n",
            "[100 rows x 2 columns]\n"
          ]
        }
      ]
    },
    {
      "cell_type": "code",
      "source": [
        "df_user_input.to_csv('predict.csv', index=False)"
      ],
      "metadata": {
        "id": "YnOFURy7rYj_"
      },
      "id": "YnOFURy7rYj_",
      "execution_count": null,
      "outputs": []
    },
    {
      "cell_type": "code",
      "source": [
        "converter = tf.lite.TFLiteConverter.from_keras_model(model)\n",
        "tflite_model = converter.convert()\n",
        "model_path = \"model.tflite\"\n",
        "# Save the model to TFLite\n",
        "with open(model_path, 'wb') as f:\n",
        "    f.write(tflite_model)"
      ],
      "metadata": {
        "id": "71ogKKWwvBNY"
      },
      "id": "71ogKKWwvBNY",
      "execution_count": null,
      "outputs": []
    }
  ],
  "metadata": {
    "kernelspec": {
      "display_name": "Python 3",
      "name": "python3"
    },
    "language_info": {
      "codemirror_mode": {
        "name": "ipython",
        "version": 3
      },
      "file_extension": ".py",
      "mimetype": "text/x-python",
      "name": "python",
      "nbconvert_exporter": "python",
      "pygments_lexer": "ipython3",
      "version": "3.10.9"
    },
    "colab": {
      "provenance": []
    },
    "accelerator": "TPU"
  },
  "nbformat": 4,
  "nbformat_minor": 5
}